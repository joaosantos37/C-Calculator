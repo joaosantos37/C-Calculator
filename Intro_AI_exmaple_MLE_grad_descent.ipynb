{
  "nbformat": 4,
  "nbformat_minor": 0,
  "metadata": {
    "colab": {
      "provenance": [],
      "include_colab_link": true
    },
    "kernelspec": {
      "name": "python3",
      "display_name": "Python 3"
    },
    "language_info": {
      "name": "python"
    }
  },
  "cells": [
    {
      "cell_type": "markdown",
      "metadata": {
        "id": "view-in-github",
        "colab_type": "text"
      },
      "source": [
        "<a href=\"https://colab.research.google.com/github/joaosantos37/C-Calculator/blob/main/Intro_AI_exmaple_MLE_grad_descent.ipynb\" target=\"_parent\"><img src=\"https://colab.research.google.com/assets/colab-badge.svg\" alt=\"Open In Colab\"/></a>"
      ]
    },
    {
      "cell_type": "code",
      "source": [
        "import numpy as np\n",
        "import matplotlib.pyplot as plt"
      ],
      "metadata": {
        "id": "o9rSofPDLN6s"
      },
      "execution_count": 1,
      "outputs": []
    },
    {
      "cell_type": "code",
      "source": [
        "# Generate artifiical dataset\n",
        "np.random.seed(10)\n",
        "true_mu = 0.3\n",
        "true_sigma = .7\n",
        "data = true_mu+true_sigma*np.random.randn(1000)"
      ],
      "metadata": {
        "id": "MjxeIN9f-K3J"
      },
      "execution_count": 2,
      "outputs": []
    },
    {
      "cell_type": "code",
      "source": [
        "print(data)"
      ],
      "metadata": {
        "id": "YnZV1tHZQGHp"
      },
      "execution_count": null,
      "outputs": []
    },
    {
      "cell_type": "code",
      "source": [
        "# Create a histogram of the data\n",
        "num_bins = 30\n",
        "count, bins, _ = plt.hist(data, num_bins, density=True,\n",
        "                                edgecolor='k')\n",
        "plt.xlim([-4,4])  # This gives the xmin and xmax to be plotted\"\n",
        "\n",
        "plt.show()"
      ],
      "metadata": {
        "id": "2oPwnJKkNmoy"
      },
      "execution_count": null,
      "outputs": []
    },
    {
      "cell_type": "code",
      "source": [
        "print(bins) # bins: x values"
      ],
      "metadata": {
        "id": "FW1RllvWRMuf"
      },
      "execution_count": null,
      "outputs": []
    },
    {
      "cell_type": "code",
      "source": [
        "print(count) # count: y values"
      ],
      "metadata": {
        "id": "k7cBxHdRSDde"
      },
      "execution_count": null,
      "outputs": []
    },
    {
      "cell_type": "code",
      "source": [
        "def normal_pdf(xvals, mu, sigma):\n",
        "  pdf_vals = 1/(sigma * np.sqrt(2 * np.pi)) * np.exp( - (xvals - mu)**2 / (2 * sigma**2))\n",
        "  return pdf_vals"
      ],
      "metadata": {
        "id": "-z4GfOUESf_h"
      },
      "execution_count": null,
      "outputs": []
    },
    {
      "cell_type": "code",
      "source": [
        "mu=3\n",
        "sigma = 2"
      ],
      "metadata": {
        "id": "uAl4a4vkSgCb"
      },
      "execution_count": null,
      "outputs": []
    },
    {
      "cell_type": "code",
      "source": [
        "normal_pdf(bins, mu, sigma)"
      ],
      "metadata": {
        "id": "KiljrMc2SYbB"
      },
      "execution_count": null,
      "outputs": []
    },
    {
      "cell_type": "code",
      "source": [
        "num_bins = 30\n",
        "count, bins, _ = plt.hist(data, num_bins, density=True,\n",
        "                                edgecolor='k')\n",
        "x_val = np.linspace(-4,4,100)\n",
        "plt.plot(x_val, normal_pdf(x_val, mu=0, sigma=2), linewidth=2, color='r', label = 'mu=0, sigma = 2')\n",
        "plt.plot(x_val, normal_pdf(x_val, mu=1, sigma=0.5), linewidth=2, color='g', label = 'mu=1, sigma = 0.5')\n",
        "plt.xlim([-4,4])  # This gives the xmin and xmax to be plotted\"\n",
        "plt.legend()\n",
        "plt.show()"
      ],
      "metadata": {
        "id": "INzTrfQKTXso"
      },
      "execution_count": null,
      "outputs": []
    },
    {
      "cell_type": "code",
      "source": [
        "# Given mu and sigma, we can define a likelihood function:\n",
        "\n",
        "mu = 3\n",
        "sigma = 2\n",
        "\n",
        "L = np.prod(normal_pdf(data, mu=mu, sigma=sigma))\n",
        "\n",
        "print(L)"
      ],
      "metadata": {
        "id": "2BMDwe9jTrUy"
      },
      "execution_count": null,
      "outputs": []
    },
    {
      "cell_type": "code",
      "source": [
        "# Too small value of L --> Find min. of -log(L)"
      ],
      "metadata": {
        "id": "-WIbcw6NV7gd"
      },
      "execution_count": null,
      "outputs": []
    },
    {
      "cell_type": "code",
      "source": [
        "def nll(xvals, mu, sigma): #nll: negative log likelihood\n",
        "  exponent = - (xvals - mu)**2 / (2 * sigma**2)\n",
        "  neg_sum_exponent = np.sum(-exponent)\n",
        "\n",
        "  coeff = 1/(sigma * np.sqrt(2 * np.pi))\n",
        "\n",
        "  n_data = xvals.shape[0]\n",
        "  sum_log_coeff = n_data * np.log(coeff)\n",
        "\n",
        "  return (neg_sum_exponent - sum_log_coeff)/n_data"
      ],
      "metadata": {
        "id": "EXTFxd6DV8uK"
      },
      "execution_count": null,
      "outputs": []
    },
    {
      "cell_type": "code",
      "source": [
        "nll(data,mu,sigma)"
      ],
      "metadata": {
        "id": "UyM5EYCxX4IK"
      },
      "execution_count": null,
      "outputs": []
    },
    {
      "cell_type": "code",
      "source": [
        "mu = 3\n",
        "sigma = 2\n",
        "\n",
        "epsilon = 1e-7 # small value for numerical gradient\n",
        "grad_mu = (nll(data,mu+epsilon,sigma)-nll(data,mu,sigma))/epsilon\n",
        "grad_sigma = (nll(data,mu,sigma+epsilon)-nll(data,mu,sigma))/epsilon"
      ],
      "metadata": {
        "id": "rNtvKksFZ2uI"
      },
      "execution_count": null,
      "outputs": []
    },
    {
      "cell_type": "code",
      "source": [
        "eta = 1e-2 # step size (or learning rate) for the gradient descent\n",
        "\n",
        "mu_new = mu - eta * grad_mu\n",
        "sigma_new = sigma - eta * grad_sigma\n",
        "\n",
        "print(mu_new, sigma_new)\n",
        "print(nll(data,mu_new,sigma_new))"
      ],
      "metadata": {
        "id": "pXWpxoYdaXDS"
      },
      "execution_count": null,
      "outputs": []
    },
    {
      "cell_type": "code",
      "source": [
        "mu = mu_new\n",
        "sigma = sigma_new\n",
        "\n",
        "grad_mu = (nll(data,mu+epsilon,sigma)-nll(data,mu,sigma))/epsilon\n",
        "grad_sigma = (nll(data,mu,sigma+epsilon)-nll(data,mu,sigma))/epsilon\n",
        "\n",
        "mu_new = mu - eta * grad_mu\n",
        "sigma_new = sigma - eta * grad_sigma\n",
        "\n",
        "print(mu_new, sigma_new)\n",
        "print(nll(data,mu_new,sigma_new))"
      ],
      "metadata": {
        "id": "wwHZ4uOSdiQD"
      },
      "execution_count": null,
      "outputs": []
    },
    {
      "cell_type": "code",
      "source": [
        "epsilon = 1e-7 # small value for numerical gradient\n",
        "\n",
        "for i in range(1000):\n",
        "  mu = mu_new\n",
        "  sigma = sigma_new\n",
        "\n",
        "  grad_mu = (nll(data,mu+epsilon,sigma)-nll(data,mu,sigma))/epsilon\n",
        "  grad_sigma = (nll(data,mu,sigma+epsilon)-nll(data,mu,sigma))/epsilon\n",
        "\n",
        "  mu_new = mu - eta * grad_mu\n",
        "  sigma_new = sigma - eta * grad_sigma\n",
        "  print(nll(data,mu,sigma))\n",
        "  #print(mu_new, sigma_new)"
      ],
      "metadata": {
        "id": "G_VcuOEPdGC0"
      },
      "execution_count": null,
      "outputs": []
    },
    {
      "cell_type": "code",
      "source": [
        "mu_new"
      ],
      "metadata": {
        "id": "ygK_qH8nfeYC"
      },
      "execution_count": null,
      "outputs": []
    },
    {
      "cell_type": "code",
      "source": [
        "sigma_new"
      ],
      "metadata": {
        "id": "n93FlLGXdGua"
      },
      "execution_count": null,
      "outputs": []
    },
    {
      "cell_type": "code",
      "source": [
        "num_bins = 30\n",
        "count, bins, _ = plt.hist(data, num_bins, density=True,\n",
        "                                edgecolor='k')\n",
        "plt.plot(bins, normal_pdf(bins, mu=mu, sigma=sigma), linewidth=2, color='r')\n",
        "plt.xlim([-4, 4])\n",
        "plt.show()"
      ],
      "metadata": {
        "id": "k3fpyu7rdHRi"
      },
      "execution_count": null,
      "outputs": []
    },
    {
      "cell_type": "code",
      "source": [],
      "metadata": {
        "id": "NLKzDT0yeM4j"
      },
      "execution_count": 2,
      "outputs": []
    }
  ]
}